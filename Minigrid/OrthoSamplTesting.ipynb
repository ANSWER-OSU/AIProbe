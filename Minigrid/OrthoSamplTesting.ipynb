{
 "cells": [
  {
   "cell_type": "code",
   "execution_count": 3,
   "metadata": {},
   "outputs": [
    {
     "name": "stderr",
     "output_type": "stream",
     "text": [
      "/opt/anaconda3/lib/python3.12/site-packages/pyDOE2/doe_factorial.py:201: SyntaxWarning: invalid escape sequence '\\-'\n",
      "  A = [item for item in re.split('\\-|\\s|\\+', gen) if item]  # remove empty strings\n"
     ]
    },
    {
     "ename": "ModuleNotFoundError",
     "evalue": "No module named 'imp'",
     "output_type": "error",
     "traceback": [
      "\u001B[0;31m---------------------------------------------------------------------------\u001B[0m",
      "\u001B[0;31mModuleNotFoundError\u001B[0m                       Traceback (most recent call last)",
      "Cell \u001B[0;32mIn[3], line 1\u001B[0m\n\u001B[0;32m----> 1\u001B[0m \u001B[38;5;28;01mfrom\u001B[39;00m \u001B[38;5;21;01mpyDOE2\u001B[39;00m \u001B[38;5;28;01mimport\u001B[39;00m oa\n\u001B[1;32m      2\u001B[0m \u001B[38;5;28;01mimport\u001B[39;00m \u001B[38;5;21;01mpandas\u001B[39;00m \u001B[38;5;28;01mas\u001B[39;00m \u001B[38;5;21;01mpd\u001B[39;00m\n\u001B[1;32m      4\u001B[0m \u001B[38;5;66;03m# Define your variables and levels\u001B[39;00m\n",
      "File \u001B[0;32m/opt/anaconda3/lib/python3.12/site-packages/pyDOE2/__init__.py:22\u001B[0m\n\u001B[1;32m      1\u001B[0m \u001B[38;5;124;03m\"\"\"\u001B[39;00m\n\u001B[1;32m      2\u001B[0m \u001B[38;5;124;03mpyDOE original code was originally converted from code by the following\u001B[39;00m\n\u001B[1;32m      3\u001B[0m \u001B[38;5;124;03mindividuals for use with Scilab:\u001B[39;00m\n\u001B[0;32m   (...)\u001B[0m\n\u001B[1;32m     19\u001B[0m \u001B[38;5;124;03m- Copyright (C) 2018 - Rickard Sjoegren and Daniel Svensson\u001B[39;00m\n\u001B[1;32m     20\u001B[0m \u001B[38;5;124;03m\"\"\"\u001B[39;00m\n\u001B[0;32m---> 22\u001B[0m \u001B[38;5;28;01mfrom\u001B[39;00m \u001B[38;5;21;01mpyDOE2\u001B[39;00m\u001B[38;5;21;01m.\u001B[39;00m\u001B[38;5;21;01mdoe_box_behnken\u001B[39;00m \u001B[38;5;28;01mimport\u001B[39;00m \u001B[38;5;241m*\u001B[39m\n\u001B[1;32m     23\u001B[0m \u001B[38;5;28;01mfrom\u001B[39;00m \u001B[38;5;21;01mpyDOE2\u001B[39;00m\u001B[38;5;21;01m.\u001B[39;00m\u001B[38;5;21;01mdoe_composite\u001B[39;00m \u001B[38;5;28;01mimport\u001B[39;00m \u001B[38;5;241m*\u001B[39m\n\u001B[1;32m     24\u001B[0m \u001B[38;5;28;01mfrom\u001B[39;00m \u001B[38;5;21;01mpyDOE2\u001B[39;00m\u001B[38;5;21;01m.\u001B[39;00m\u001B[38;5;21;01mdoe_factorial\u001B[39;00m \u001B[38;5;28;01mimport\u001B[39;00m \u001B[38;5;241m*\u001B[39m\n",
      "File \u001B[0;32m/opt/anaconda3/lib/python3.12/site-packages/pyDOE2/doe_box_behnken.py:17\u001B[0m\n\u001B[1;32m      1\u001B[0m \u001B[38;5;124;03m\"\"\"\u001B[39;00m\n\u001B[1;32m      2\u001B[0m \u001B[38;5;124;03mThis code was originally published by the following individuals for use with\u001B[39;00m\n\u001B[1;32m      3\u001B[0m \u001B[38;5;124;03mScilab:\u001B[39;00m\n\u001B[0;32m   (...)\u001B[0m\n\u001B[1;32m     13\u001B[0m \u001B[38;5;124;03mAbraham Lee.\u001B[39;00m\n\u001B[1;32m     14\u001B[0m \u001B[38;5;124;03m\"\"\"\u001B[39;00m\n\u001B[1;32m     16\u001B[0m \u001B[38;5;28;01mimport\u001B[39;00m \u001B[38;5;21;01mnumpy\u001B[39;00m \u001B[38;5;28;01mas\u001B[39;00m \u001B[38;5;21;01mnp\u001B[39;00m\n\u001B[0;32m---> 17\u001B[0m \u001B[38;5;28;01mfrom\u001B[39;00m \u001B[38;5;21;01mpyDOE2\u001B[39;00m\u001B[38;5;21;01m.\u001B[39;00m\u001B[38;5;21;01mdoe_factorial\u001B[39;00m \u001B[38;5;28;01mimport\u001B[39;00m ff2n\n\u001B[1;32m     18\u001B[0m \u001B[38;5;28;01mfrom\u001B[39;00m \u001B[38;5;21;01mpyDOE2\u001B[39;00m\u001B[38;5;21;01m.\u001B[39;00m\u001B[38;5;21;01mdoe_repeat_center\u001B[39;00m \u001B[38;5;28;01mimport\u001B[39;00m repeat_center\n\u001B[1;32m     20\u001B[0m __all__ \u001B[38;5;241m=\u001B[39m [\u001B[38;5;124m'\u001B[39m\u001B[38;5;124mbbdesign\u001B[39m\u001B[38;5;124m'\u001B[39m]\n",
      "File \u001B[0;32m/opt/anaconda3/lib/python3.12/site-packages/pyDOE2/doe_factorial.py:16\u001B[0m\n\u001B[1;32m      1\u001B[0m \u001B[38;5;124;03m\"\"\"\u001B[39;00m\n\u001B[1;32m      2\u001B[0m \u001B[38;5;124;03mThis code was originally published by the following individuals for use with\u001B[39;00m\n\u001B[1;32m      3\u001B[0m \u001B[38;5;124;03mScilab:\u001B[39;00m\n\u001B[0;32m   (...)\u001B[0m\n\u001B[1;32m     13\u001B[0m \u001B[38;5;124;03mAbraham Lee.\u001B[39;00m\n\u001B[1;32m     14\u001B[0m \u001B[38;5;124;03m\"\"\"\u001B[39;00m\n\u001B[0;32m---> 16\u001B[0m \u001B[38;5;28;01mimport\u001B[39;00m \u001B[38;5;21;01mimp\u001B[39;00m\n\u001B[1;32m     17\u001B[0m \u001B[38;5;28;01mimport\u001B[39;00m \u001B[38;5;21;01mitertools\u001B[39;00m\n\u001B[1;32m     18\u001B[0m \u001B[38;5;28;01mimport\u001B[39;00m \u001B[38;5;21;01mmath\u001B[39;00m\n",
      "\u001B[0;31mModuleNotFoundError\u001B[0m: No module named 'imp'"
     ]
    }
   ],
   "source": [
    "from pyDOE2 import oa\n",
    "import pandas as pd\n",
    "\n",
    "# Define your variables and levels\n",
    "variables = {\n",
    "    \"X\": range(0, 29),  # X values range from 0 to 28\n",
    "    \"Y\": range(0, 29),  # Y values range from 0 to 28\n",
    "    \"Angle\": range(0, 4)  # Angle values range from 0 to 3\n",
    "}\n",
    "\n",
    "# Create the orthogonal array\n",
    "# The number of levels is determined by the largest range\n",
    "levels = [len(variables[var]) for var in variables]\n",
    "oa_design = oa.create(\"L16\", levels=len(variables), strength=2)  # Adjust strength as needed\n",
    "\n",
    "# Map the levels back to the actual variable ranges\n",
    "def map_levels(row, variables):\n",
    "    return [list(variables[var])[int(row[i])] for i, var in enumerate(variables)]\n",
    "\n",
    "# Generate pairs based on the orthogonal array\n",
    "pairs = [map_levels(row, variables) for row in oa_design]\n",
    "\n",
    "# Convert to a pandas DataFrame for easier handling\n",
    "df = pd.DataFrame(pairs, columns=variables.keys())\n",
    "\n",
    "# Optional: Add constraints validation\n",
    "# Example: Filter pairs where X + Y <= 28 (as a simple constraint)\n",
    "df = df[(df[\"X\"] + df[\"Y\"] <= 28)]\n",
    "\n",
    "# Output the pairs\n",
    "print(df)\n",
    "\n",
    "# Save the result to a CSV or XML for further processing\n",
    "df.to_csv(\"orthogonal_pairs.csv\", index=False)"
   ]
  },
  {
   "cell_type": "code",
   "execution_count": 5,
   "metadata": {},
   "outputs": [
    {
     "ename": "ModuleNotFoundError",
     "evalue": "No module named 'imp'",
     "output_type": "error",
     "traceback": [
      "\u001B[0;31m---------------------------------------------------------------------------\u001B[0m",
      "\u001B[0;31mModuleNotFoundError\u001B[0m                       Traceback (most recent call last)",
      "Cell \u001B[0;32mIn[5], line 1\u001B[0m\n\u001B[0;32m----> 1\u001B[0m \u001B[38;5;28;01mfrom\u001B[39;00m \u001B[38;5;21;01mpyDOE2\u001B[39;00m \u001B[38;5;28;01mimport\u001B[39;00m ff2n  \u001B[38;5;66;03m# For factorial design\u001B[39;00m\n\u001B[1;32m      2\u001B[0m \u001B[38;5;28;01mimport\u001B[39;00m \u001B[38;5;21;01mpandas\u001B[39;00m \u001B[38;5;28;01mas\u001B[39;00m \u001B[38;5;21;01mpd\u001B[39;00m\n\u001B[1;32m      4\u001B[0m \u001B[38;5;66;03m# Define your variables and levels\u001B[39;00m\n",
      "File \u001B[0;32m/opt/anaconda3/lib/python3.12/site-packages/pyDOE2/__init__.py:22\u001B[0m\n\u001B[1;32m      1\u001B[0m \u001B[38;5;124;03m\"\"\"\u001B[39;00m\n\u001B[1;32m      2\u001B[0m \u001B[38;5;124;03mpyDOE original code was originally converted from code by the following\u001B[39;00m\n\u001B[1;32m      3\u001B[0m \u001B[38;5;124;03mindividuals for use with Scilab:\u001B[39;00m\n\u001B[0;32m   (...)\u001B[0m\n\u001B[1;32m     19\u001B[0m \u001B[38;5;124;03m- Copyright (C) 2018 - Rickard Sjoegren and Daniel Svensson\u001B[39;00m\n\u001B[1;32m     20\u001B[0m \u001B[38;5;124;03m\"\"\"\u001B[39;00m\n\u001B[0;32m---> 22\u001B[0m \u001B[38;5;28;01mfrom\u001B[39;00m \u001B[38;5;21;01mpyDOE2\u001B[39;00m\u001B[38;5;21;01m.\u001B[39;00m\u001B[38;5;21;01mdoe_box_behnken\u001B[39;00m \u001B[38;5;28;01mimport\u001B[39;00m \u001B[38;5;241m*\u001B[39m\n\u001B[1;32m     23\u001B[0m \u001B[38;5;28;01mfrom\u001B[39;00m \u001B[38;5;21;01mpyDOE2\u001B[39;00m\u001B[38;5;21;01m.\u001B[39;00m\u001B[38;5;21;01mdoe_composite\u001B[39;00m \u001B[38;5;28;01mimport\u001B[39;00m \u001B[38;5;241m*\u001B[39m\n\u001B[1;32m     24\u001B[0m \u001B[38;5;28;01mfrom\u001B[39;00m \u001B[38;5;21;01mpyDOE2\u001B[39;00m\u001B[38;5;21;01m.\u001B[39;00m\u001B[38;5;21;01mdoe_factorial\u001B[39;00m \u001B[38;5;28;01mimport\u001B[39;00m \u001B[38;5;241m*\u001B[39m\n",
      "File \u001B[0;32m/opt/anaconda3/lib/python3.12/site-packages/pyDOE2/doe_box_behnken.py:17\u001B[0m\n\u001B[1;32m      1\u001B[0m \u001B[38;5;124;03m\"\"\"\u001B[39;00m\n\u001B[1;32m      2\u001B[0m \u001B[38;5;124;03mThis code was originally published by the following individuals for use with\u001B[39;00m\n\u001B[1;32m      3\u001B[0m \u001B[38;5;124;03mScilab:\u001B[39;00m\n\u001B[0;32m   (...)\u001B[0m\n\u001B[1;32m     13\u001B[0m \u001B[38;5;124;03mAbraham Lee.\u001B[39;00m\n\u001B[1;32m     14\u001B[0m \u001B[38;5;124;03m\"\"\"\u001B[39;00m\n\u001B[1;32m     16\u001B[0m \u001B[38;5;28;01mimport\u001B[39;00m \u001B[38;5;21;01mnumpy\u001B[39;00m \u001B[38;5;28;01mas\u001B[39;00m \u001B[38;5;21;01mnp\u001B[39;00m\n\u001B[0;32m---> 17\u001B[0m \u001B[38;5;28;01mfrom\u001B[39;00m \u001B[38;5;21;01mpyDOE2\u001B[39;00m\u001B[38;5;21;01m.\u001B[39;00m\u001B[38;5;21;01mdoe_factorial\u001B[39;00m \u001B[38;5;28;01mimport\u001B[39;00m ff2n\n\u001B[1;32m     18\u001B[0m \u001B[38;5;28;01mfrom\u001B[39;00m \u001B[38;5;21;01mpyDOE2\u001B[39;00m\u001B[38;5;21;01m.\u001B[39;00m\u001B[38;5;21;01mdoe_repeat_center\u001B[39;00m \u001B[38;5;28;01mimport\u001B[39;00m repeat_center\n\u001B[1;32m     20\u001B[0m __all__ \u001B[38;5;241m=\u001B[39m [\u001B[38;5;124m'\u001B[39m\u001B[38;5;124mbbdesign\u001B[39m\u001B[38;5;124m'\u001B[39m]\n",
      "File \u001B[0;32m/opt/anaconda3/lib/python3.12/site-packages/pyDOE2/doe_factorial.py:16\u001B[0m\n\u001B[1;32m      1\u001B[0m \u001B[38;5;124;03m\"\"\"\u001B[39;00m\n\u001B[1;32m      2\u001B[0m \u001B[38;5;124;03mThis code was originally published by the following individuals for use with\u001B[39;00m\n\u001B[1;32m      3\u001B[0m \u001B[38;5;124;03mScilab:\u001B[39;00m\n\u001B[0;32m   (...)\u001B[0m\n\u001B[1;32m     13\u001B[0m \u001B[38;5;124;03mAbraham Lee.\u001B[39;00m\n\u001B[1;32m     14\u001B[0m \u001B[38;5;124;03m\"\"\"\u001B[39;00m\n\u001B[0;32m---> 16\u001B[0m \u001B[38;5;28;01mimport\u001B[39;00m \u001B[38;5;21;01mimp\u001B[39;00m\n\u001B[1;32m     17\u001B[0m \u001B[38;5;28;01mimport\u001B[39;00m \u001B[38;5;21;01mitertools\u001B[39;00m\n\u001B[1;32m     18\u001B[0m \u001B[38;5;28;01mimport\u001B[39;00m \u001B[38;5;21;01mmath\u001B[39;00m\n",
      "\u001B[0;31mModuleNotFoundError\u001B[0m: No module named 'imp'"
     ]
    }
   ],
   "source": [
    "from pyDOE2 import ff2n  # For factorial design\n",
    "import pandas as pd\n",
    "\n",
    "# Define your variables and levels\n",
    "variables = {\n",
    "    \"X\": range(0, 29),  # X values range from 0 to 28\n",
    "    \"Y\": range(0, 29),  # Y values range from 0 to 28\n",
    "    \"Angle\": range(0, 4)  # Angle values range from 0 to 3\n",
    "}\n",
    "\n",
    "# Create a fractional factorial design\n",
    "# Adjust the size of the design for the number of variables\n",
    "design = ff2n(len(variables))  # This creates a full factorial design for 2-level factors\n",
    "\n",
    "# Normalize the design to fit the variable ranges\n",
    "def normalize_design(design, variables):\n",
    "    normalized_data = []\n",
    "    for row in design:\n",
    "        normalized_row = []\n",
    "        for i, value in enumerate(row):\n",
    "            var_name = list(variables.keys())[i]\n",
    "            var_range = variables[var_name]\n",
    "            mapped_value = int((value + 1) / 2 * (len(var_range) - 1))  # Map -1, 1 to range\n",
    "            normalized_row.append(var_range[mapped_value])\n",
    "        normalized_data.append(normalized_row)\n",
    "    return normalized_data\n",
    "\n",
    "normalized_pairs = normalize_design(design, variables)\n",
    "\n",
    "# Convert to a pandas DataFrame\n",
    "df = pd.DataFrame(normalized_pairs, columns=variables.keys())\n",
    "\n",
    "# Optional: Add constraints validation\n",
    "# Example: Filter pairs where X + Y <= 28 (as a simple constraint)\n",
    "df = df[(df[\"X\"] + df[\"Y\"] <= 28)]\n",
    "\n",
    "# Output the pairs\n",
    "print(df)\n",
    "\n",
    "# Save the result to a CSV or XML for further processing\n",
    "df.to_csv(\"orthogonal_pairs.csv\", index=False)"
   ]
  },
  {
   "cell_type": "code",
   "execution_count": 6,
   "metadata": {},
   "outputs": [
    {
     "name": "stdout",
     "output_type": "stream",
     "text": [
      "\u001B[31mERROR: Could not find a version that satisfies the requirement imp (from versions: none)\u001B[0m\u001B[31m\n",
      "\u001B[0m\u001B[31mERROR: No matching distribution found for imp\u001B[0m\u001B[31m\n",
      "\u001B[0m"
     ]
    }
   ],
   "source": [
    "! pip install imp"
   ]
  },
  {
   "metadata": {
    "ExecuteTime": {
     "end_time": "2025-01-10T16:34:40.860629Z",
     "start_time": "2025-01-10T16:34:40.366305Z"
    }
   },
   "cell_type": "code",
   "source": [
    "from pyDOE2 import oa\n",
    "import pandas as pd\n",
    "\n",
    "# Define variables and their ranges\n",
    "variables = {\n",
    "    \"X\": range(0, 29, 14),  # Selected levels: Min (0), Midpoint (14), Max (28)\n",
    "    \"Y\": range(0, 29, 14),  # Selected levels: Min (0), Midpoint (14), Max (28)\n",
    "    \"Angle\": range(0, 4)  # Full range for Angle\n",
    "}\n",
    "\n",
    "# Define the levels for the orthogonal array\n",
    "levels = [len(variables[var]) for var in variables]\n",
    "\n",
    "# Create the orthogonal array\n",
    "oa_design = oa.create(levels=len(variables), strength=2)\n",
    "\n",
    "# Map the levels back to actual variable ranges\n",
    "def map_levels(row, variables):\n",
    "    return [list(variables[var])[int(row[i])] for i, var in enumerate(variables)]\n",
    "\n",
    "# Generate pairs based on the orthogonal array\n",
    "pairs = [map_levels(row, variables) for row in oa_design]\n",
    "\n",
    "# Convert to a DataFrame for easier handling\n",
    "df = pd.DataFrame(pairs, columns=variables.keys())\n",
    "\n",
    "# Optional: Apply constraints\n",
    "df = df[(df[\"X\"] + df[\"Y\"] <= 28)]  # Example constraint\n",
    "\n",
    "# Output the pairs\n",
    "print(df)\n",
    "\n",
    "# Save the result to a CSV for further processing\n",
    "df.to_csv(\"orthogonal_pairs.csv\", index=False)"
   ],
   "outputs": [
    {
     "name": "stderr",
     "output_type": "stream",
     "text": [
      "/opt/anaconda3/envs/aiprobe/lib/python3.12/site-packages/pyDOE2/doe_factorial.py:201: SyntaxWarning: invalid escape sequence '\\-'\n",
      "  A = [item for item in re.split('\\-|\\s|\\+', gen) if item]  # remove empty strings\n"
     ]
    },
    {
     "ename": "ModuleNotFoundError",
     "evalue": "No module named 'imp'",
     "output_type": "error",
     "traceback": [
      "\u001B[0;31m---------------------------------------------------------------------------\u001B[0m",
      "\u001B[0;31mModuleNotFoundError\u001B[0m                       Traceback (most recent call last)",
      "Cell \u001B[0;32mIn[1], line 1\u001B[0m\n\u001B[0;32m----> 1\u001B[0m \u001B[38;5;28;01mfrom\u001B[39;00m \u001B[38;5;21;01mpyDOE2\u001B[39;00m \u001B[38;5;28;01mimport\u001B[39;00m oa\n\u001B[1;32m      2\u001B[0m \u001B[38;5;28;01mimport\u001B[39;00m \u001B[38;5;21;01mpandas\u001B[39;00m \u001B[38;5;28;01mas\u001B[39;00m \u001B[38;5;21;01mpd\u001B[39;00m\n\u001B[1;32m      4\u001B[0m \u001B[38;5;66;03m# Define variables and their ranges\u001B[39;00m\n",
      "File \u001B[0;32m/opt/anaconda3/envs/aiprobe/lib/python3.12/site-packages/pyDOE2/__init__.py:22\u001B[0m\n\u001B[1;32m      1\u001B[0m \u001B[38;5;124;03m\"\"\"\u001B[39;00m\n\u001B[1;32m      2\u001B[0m \u001B[38;5;124;03mpyDOE original code was originally converted from code by the following\u001B[39;00m\n\u001B[1;32m      3\u001B[0m \u001B[38;5;124;03mindividuals for use with Scilab:\u001B[39;00m\n\u001B[0;32m   (...)\u001B[0m\n\u001B[1;32m     19\u001B[0m \u001B[38;5;124;03m- Copyright (C) 2018 - Rickard Sjoegren and Daniel Svensson\u001B[39;00m\n\u001B[1;32m     20\u001B[0m \u001B[38;5;124;03m\"\"\"\u001B[39;00m\n\u001B[0;32m---> 22\u001B[0m \u001B[38;5;28;01mfrom\u001B[39;00m \u001B[38;5;21;01mpyDOE2\u001B[39;00m\u001B[38;5;21;01m.\u001B[39;00m\u001B[38;5;21;01mdoe_box_behnken\u001B[39;00m \u001B[38;5;28;01mimport\u001B[39;00m \u001B[38;5;241m*\u001B[39m\n\u001B[1;32m     23\u001B[0m \u001B[38;5;28;01mfrom\u001B[39;00m \u001B[38;5;21;01mpyDOE2\u001B[39;00m\u001B[38;5;21;01m.\u001B[39;00m\u001B[38;5;21;01mdoe_composite\u001B[39;00m \u001B[38;5;28;01mimport\u001B[39;00m \u001B[38;5;241m*\u001B[39m\n\u001B[1;32m     24\u001B[0m \u001B[38;5;28;01mfrom\u001B[39;00m \u001B[38;5;21;01mpyDOE2\u001B[39;00m\u001B[38;5;21;01m.\u001B[39;00m\u001B[38;5;21;01mdoe_factorial\u001B[39;00m \u001B[38;5;28;01mimport\u001B[39;00m \u001B[38;5;241m*\u001B[39m\n",
      "File \u001B[0;32m/opt/anaconda3/envs/aiprobe/lib/python3.12/site-packages/pyDOE2/doe_box_behnken.py:17\u001B[0m\n\u001B[1;32m      1\u001B[0m \u001B[38;5;124;03m\"\"\"\u001B[39;00m\n\u001B[1;32m      2\u001B[0m \u001B[38;5;124;03mThis code was originally published by the following individuals for use with\u001B[39;00m\n\u001B[1;32m      3\u001B[0m \u001B[38;5;124;03mScilab:\u001B[39;00m\n\u001B[0;32m   (...)\u001B[0m\n\u001B[1;32m     13\u001B[0m \u001B[38;5;124;03mAbraham Lee.\u001B[39;00m\n\u001B[1;32m     14\u001B[0m \u001B[38;5;124;03m\"\"\"\u001B[39;00m\n\u001B[1;32m     16\u001B[0m \u001B[38;5;28;01mimport\u001B[39;00m \u001B[38;5;21;01mnumpy\u001B[39;00m \u001B[38;5;28;01mas\u001B[39;00m \u001B[38;5;21;01mnp\u001B[39;00m\n\u001B[0;32m---> 17\u001B[0m \u001B[38;5;28;01mfrom\u001B[39;00m \u001B[38;5;21;01mpyDOE2\u001B[39;00m\u001B[38;5;21;01m.\u001B[39;00m\u001B[38;5;21;01mdoe_factorial\u001B[39;00m \u001B[38;5;28;01mimport\u001B[39;00m ff2n\n\u001B[1;32m     18\u001B[0m \u001B[38;5;28;01mfrom\u001B[39;00m \u001B[38;5;21;01mpyDOE2\u001B[39;00m\u001B[38;5;21;01m.\u001B[39;00m\u001B[38;5;21;01mdoe_repeat_center\u001B[39;00m \u001B[38;5;28;01mimport\u001B[39;00m repeat_center\n\u001B[1;32m     20\u001B[0m __all__ \u001B[38;5;241m=\u001B[39m [\u001B[38;5;124m'\u001B[39m\u001B[38;5;124mbbdesign\u001B[39m\u001B[38;5;124m'\u001B[39m]\n",
      "File \u001B[0;32m/opt/anaconda3/envs/aiprobe/lib/python3.12/site-packages/pyDOE2/doe_factorial.py:16\u001B[0m\n\u001B[1;32m      1\u001B[0m \u001B[38;5;124;03m\"\"\"\u001B[39;00m\n\u001B[1;32m      2\u001B[0m \u001B[38;5;124;03mThis code was originally published by the following individuals for use with\u001B[39;00m\n\u001B[1;32m      3\u001B[0m \u001B[38;5;124;03mScilab:\u001B[39;00m\n\u001B[0;32m   (...)\u001B[0m\n\u001B[1;32m     13\u001B[0m \u001B[38;5;124;03mAbraham Lee.\u001B[39;00m\n\u001B[1;32m     14\u001B[0m \u001B[38;5;124;03m\"\"\"\u001B[39;00m\n\u001B[0;32m---> 16\u001B[0m \u001B[38;5;28;01mimport\u001B[39;00m \u001B[38;5;21;01mimp\u001B[39;00m\n\u001B[1;32m     17\u001B[0m \u001B[38;5;28;01mimport\u001B[39;00m \u001B[38;5;21;01mitertools\u001B[39;00m\n\u001B[1;32m     18\u001B[0m \u001B[38;5;28;01mimport\u001B[39;00m \u001B[38;5;21;01mmath\u001B[39;00m\n",
      "\u001B[0;31mModuleNotFoundError\u001B[0m: No module named 'imp'"
     ]
    }
   ],
   "execution_count": 1
  }
 ],
 "metadata": {
  "kernelspec": {
   "display_name": "aiprobe",
   "language": "python",
   "name": "python3"
  },
  "language_info": {
   "codemirror_mode": {
    "name": "ipython",
    "version": 3
   },
   "file_extension": ".py",
   "mimetype": "text/x-python",
   "name": "python",
   "nbconvert_exporter": "python",
   "pygments_lexer": "ipython3",
   "version": "3.12.4"
  }
 },
 "nbformat": 4,
 "nbformat_minor": 2
}
